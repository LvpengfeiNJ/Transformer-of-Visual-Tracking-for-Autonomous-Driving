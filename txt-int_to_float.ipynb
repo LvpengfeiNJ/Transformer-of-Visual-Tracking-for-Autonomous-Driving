{
 "cells": [
  {
   "cell_type": "code",
   "execution_count": 1,
   "id": "e353a960",
   "metadata": {},
   "outputs": [],
   "source": [
    "import pandas as pd\n",
    "import numpy as np\n",
    "import os\n",
    "import sys"
   ]
  },
  {
   "cell_type": "code",
   "execution_count": 2,
   "id": "cf4843ff",
   "metadata": {},
   "outputs": [
    {
     "data": {
      "text/plain": [
       "'C:\\\\Users\\\\lpf\\\\Desktop\\\\Code_of_Paper'"
      ]
     },
     "execution_count": 2,
     "metadata": {},
     "output_type": "execute_result"
    }
   ],
   "source": [
    "os.getcwd()"
   ]
  },
  {
   "cell_type": "code",
   "execution_count": 3,
   "id": "37d225ec",
   "metadata": {},
   "outputs": [],
   "source": [
    "def int_to_float(path2):\n",
    "    df = pd.read_csv(path2, header = None)\n",
    "    for i in range(4):\n",
    "        df[i] = df[i].astype(\"float\")\n",
    "    df.to_csv(path2, header = False, index=False)\n",
    "        "
   ]
  },
  {
   "cell_type": "code",
   "execution_count": 4,
   "id": "f463c3b2",
   "metadata": {},
   "outputs": [],
   "source": [
    "def walkFile(file):\n",
    "\n",
    "    for root, dirs, files in os.walk(file):\n",
    "\n",
    "        # root 表示当前正在访问的文件夹路径\n",
    "\n",
    "        # dirs 表示该文件夹下的子目录名list\n",
    "\n",
    "        # files 表示该文件夹下的文件list\n",
    "\n",
    "        # 遍历文件\n",
    "\n",
    "        for f in files:\n",
    "            if \".txt\" in f:\n",
    "                int_to_float(os.path.join(root, f))\n",
    "\n",
    "        # 遍历所有的文件夹\n",
    "\n",
    "        for d in dirs:\n",
    "            if \".txt\" in d:\n",
    "                int_to_float(os.path.join(root, d))"
   ]
  },
  {
   "cell_type": "code",
   "execution_count": 5,
   "id": "e38870f9",
   "metadata": {},
   "outputs": [],
   "source": [
    "walkFile(\"C:\\Users\\lpf\\Desktop\\Code_of_Paper\\pysot-toolkit\\results\\OTB100\")"
   ]
  }
 ],
 "metadata": {
  "kernelspec": {
   "display_name": "Python 3",
   "language": "python",
   "name": "python3"
  },
  "language_info": {
   "codemirror_mode": {
    "name": "ipython",
    "version": 3
   },
   "file_extension": ".py",
   "mimetype": "text/x-python",
   "name": "python",
   "nbconvert_exporter": "python",
   "pygments_lexer": "ipython3",
   "version": "3.7.10"
  }
 },
 "nbformat": 4,
 "nbformat_minor": 5
}
